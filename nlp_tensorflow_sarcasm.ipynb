{
 "cells": [
  {
   "cell_type": "code",
   "execution_count": 1,
   "metadata": {},
   "outputs": [],
   "source": [
    "import tensorflow as tf\n",
    "from tensorflow import keras\n",
    "from tensorflow.keras.preprocessing.text import Tokenizer\n",
    "from tensorflow.keras.preprocessing.sequence import pad_sequences\n",
    "import pandas as pd"
   ]
  },
  {
   "cell_type": "code",
   "execution_count": 2,
   "metadata": {},
   "outputs": [],
   "source": [
    "data_source   = 'data_sarcasm/sarcasm_dataset_1.json'\n",
    "training_size = 20000\n",
    "oov_token     = '<OOV>'\n",
    "trunc_type    = 'post'\n",
    "pad_type      = 'post'\n",
    "max_length    = 50\n",
    "vocab_size    = 15000\n",
    "embedding_dim = 10\n",
    "num_epochs    = 10"
   ]
  },
  {
   "cell_type": "code",
   "execution_count": 3,
   "metadata": {},
   "outputs": [],
   "source": [
    "data      = pd.read_json(data_source, lines=True)\n",
    "sentences = data.headline.to_list()\n",
    "labels    = data.is_sarcastic.to_list()"
   ]
  },
  {
   "cell_type": "code",
   "execution_count": 4,
   "metadata": {},
   "outputs": [],
   "source": [
    "training_sentences = sentences[:training_size]\n",
    "testing_sentences  = sentences[training_size:]\n",
    "training_labels    = labels[:training_size]\n",
    "testing_labels     = labels[training_size:]"
   ]
  },
  {
   "cell_type": "code",
   "execution_count": 5,
   "metadata": {},
   "outputs": [],
   "source": [
    "tokenizer  = Tokenizer(num_words=vocab_size, oov_token=oov_token)\n",
    "tokenizer.fit_on_texts(training_sentences)\n",
    "word_index = tokenizer.word_index"
   ]
  },
  {
   "cell_type": "code",
   "execution_count": 6,
   "metadata": {},
   "outputs": [],
   "source": [
    "training_sequences = tokenizer.texts_to_sequences(training_sentences)\n",
    "training_padded    = pad_sequences(training_sequences, \n",
    "                                   padding   =pad_type, \n",
    "                                   truncating=trunc_type,\n",
    "                                   maxlen    =max_length)"
   ]
  },
  {
   "cell_type": "code",
   "execution_count": 7,
   "metadata": {},
   "outputs": [],
   "source": [
    "testing_sequences = tokenizer.texts_to_sequences(testing_sentences)\n",
    "testing_padded    = pad_sequences(testing_sequences, \n",
    "                                  padding   =pad_type, \n",
    "                                  truncating=trunc_type,\n",
    "                                  maxlen    =max_length)"
   ]
  },
  {
   "cell_type": "code",
   "execution_count": 8,
   "metadata": {},
   "outputs": [],
   "source": [
    "tf.keras.layers.Embedding??"
   ]
  },
  {
   "cell_type": "code",
   "execution_count": 9,
   "metadata": {},
   "outputs": [
    {
     "name": "stderr",
     "output_type": "stream",
     "text": [
      "WARNING: Logging before flag parsing goes to stderr.\n",
      "W0322 23:02:19.284435 140454871394112 deprecation.py:506] From /home/somesh/anaconda3/envs/tf_gpu/lib/python3.7/site-packages/tensorflow/python/keras/initializers.py:119: calling RandomUniform.__init__ (from tensorflow.python.ops.init_ops) with dtype is deprecated and will be removed in a future version.\n",
      "Instructions for updating:\n",
      "Call initializer instance with the dtype argument instead of passing it to the constructor\n",
      "W0322 23:02:19.286146 140454871394112 deprecation.py:506] From /home/somesh/anaconda3/envs/tf_gpu/lib/python3.7/site-packages/tensorflow/python/ops/init_ops.py:1251: calling VarianceScaling.__init__ (from tensorflow.python.ops.init_ops) with dtype is deprecated and will be removed in a future version.\n",
      "Instructions for updating:\n",
      "Call initializer instance with the dtype argument instead of passing it to the constructor\n",
      "W0322 23:02:19.350674 140454871394112 deprecation.py:323] From /home/somesh/anaconda3/envs/tf_gpu/lib/python3.7/site-packages/tensorflow/python/ops/nn_impl.py:180: add_dispatch_support.<locals>.wrapper (from tensorflow.python.ops.array_ops) is deprecated and will be removed in a future version.\n",
      "Instructions for updating:\n",
      "Use tf.where in 2.0, which has the same broadcast rule as np.where\n"
     ]
    }
   ],
   "source": [
    "model = tf.keras.Sequential([tf.keras.layers.Embedding(input_dim   =vocab_size, \n",
    "                                                       output_dim  =embedding_dim, \n",
    "                                                       input_length=max_length),\n",
    "                             tf.keras.layers.GlobalAveragePooling1D(),\n",
    "                             tf.keras.layers.Dense(24, activation='relu'),\n",
    "                             tf.keras.layers.Dense(1, activation='sigmoid')])\n",
    "model.compile(loss='binary_crossentropy', optimizer='adam', metrics=['accuracy'])"
   ]
  },
  {
   "cell_type": "code",
   "execution_count": 10,
   "metadata": {},
   "outputs": [
    {
     "name": "stdout",
     "output_type": "stream",
     "text": [
      "Train on 20000 samples, validate on 6709 samples\n",
      "Epoch 1/10\n",
      "20000/20000 - 2s - loss: 0.6282 - acc: 0.6403 - val_loss: 0.4860 - val_acc: 0.8244\n",
      "Epoch 2/10\n",
      "20000/20000 - 1s - loss: 0.3684 - acc: 0.8577 - val_loss: 0.3609 - val_acc: 0.8520\n",
      "Epoch 3/10\n",
      "20000/20000 - 2s - loss: 0.2660 - acc: 0.8987 - val_loss: 0.3413 - val_acc: 0.8563\n",
      "Epoch 4/10\n",
      "20000/20000 - 1s - loss: 0.2096 - acc: 0.9229 - val_loss: 0.3432 - val_acc: 0.8539\n",
      "Epoch 5/10\n",
      "20000/20000 - 2s - loss: 0.1701 - acc: 0.9380 - val_loss: 0.3662 - val_acc: 0.8506\n",
      "Epoch 6/10\n",
      "20000/20000 - 1s - loss: 0.1394 - acc: 0.9513 - val_loss: 0.3754 - val_acc: 0.8551\n",
      "Epoch 7/10\n",
      "20000/20000 - 1s - loss: 0.1156 - acc: 0.9614 - val_loss: 0.4165 - val_acc: 0.8471\n",
      "Epoch 8/10\n",
      "20000/20000 - 2s - loss: 0.0963 - acc: 0.9682 - val_loss: 0.4308 - val_acc: 0.8496\n",
      "Epoch 9/10\n",
      "20000/20000 - 1s - loss: 0.0803 - acc: 0.9750 - val_loss: 0.4596 - val_acc: 0.8469\n",
      "Epoch 10/10\n",
      "20000/20000 - 1s - loss: 0.0676 - acc: 0.9799 - val_loss: 0.5006 - val_acc: 0.8448\n"
     ]
    }
   ],
   "source": [
    "history = model.fit(training_padded, \n",
    "                    training_labels, \n",
    "                    epochs=num_epochs,\n",
    "                    validation_data=(testing_padded, testing_labels),\n",
    "                    verbose=2)"
   ]
  },
  {
   "cell_type": "code",
   "execution_count": 11,
   "metadata": {},
   "outputs": [
    {
     "data": {
      "text/plain": [
       "array([[7.9515463e-01],\n",
       "       [5.6674390e-04]], dtype=float32)"
      ]
     },
     "execution_count": 11,
     "metadata": {},
     "output_type": "execute_result"
    }
   ],
   "source": [
    "sentence = ['granny starting to fear spiders in the garden might be real',\n",
    "            'the weather today is bright and sunny']\n",
    "sequences = tokenizer.texts_to_sequences(sentence)\n",
    "padded    = pad_sequences(sequences, \n",
    "                          truncating=trunc_type, \n",
    "                          maxlen    =max_length,\n",
    "                          padding   =pad_type)\n",
    "model.predict(padded)"
   ]
  }
 ],
 "metadata": {
  "kernelspec": {
   "display_name": "Python [conda env:tf_gpu] *",
   "language": "python",
   "name": "conda-env-tf_gpu-py"
  },
  "language_info": {
   "codemirror_mode": {
    "name": "ipython",
    "version": 3
   },
   "file_extension": ".py",
   "mimetype": "text/x-python",
   "name": "python",
   "nbconvert_exporter": "python",
   "pygments_lexer": "ipython3",
   "version": "3.7.4"
  }
 },
 "nbformat": 4,
 "nbformat_minor": 2
}
